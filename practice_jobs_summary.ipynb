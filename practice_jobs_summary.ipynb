{
  "nbformat": 4,
  "nbformat_minor": 0,
  "metadata": {
    "colab": {
      "name": "practice-jobs summary.ipynb",
      "provenance": [],
      "collapsed_sections": [],
      "authorship_tag": "ABX9TyMbfIBQ6UsKTYC3ue0r815g",
      "include_colab_link": true
    },
    "kernelspec": {
      "name": "python3",
      "display_name": "Python 3"
    },
    "language_info": {
      "name": "python"
    }
  },
  "cells": [
    {
      "cell_type": "markdown",
      "metadata": {
        "id": "view-in-github",
        "colab_type": "text"
      },
      "source": [
        "<a href=\"https://colab.research.google.com/github/lyk1231/notes/blob/main/practice_jobs_summary.ipynb\" target=\"_parent\"><img src=\"https://colab.research.google.com/assets/colab-badge.svg\" alt=\"Open In Colab\"/></a>"
      ]
    },
    {
      "cell_type": "code",
      "source": [
        "#import report of jobs\n",
        "#clean and transform"
      ],
      "metadata": {
        "id": "_Lg7BrhGtM-P"
      },
      "execution_count": null,
      "outputs": []
    },
    {
      "cell_type": "code",
      "execution_count": null,
      "metadata": {
        "id": "x8CfWifyE72t"
      },
      "outputs": [],
      "source": [
        "import pandas as pd\n",
        "import os\n",
        "import seaborn as sns\n",
        "import matplotlib.pyplot as plt\n",
        "import numpy as np\n",
        "from datetime import date\n",
        "import datetime"
      ]
    },
    {
      "cell_type": "code",
      "source": [
        "#import data\n",
        "sheet_id = '1lA-5IKOd-0DYwI93PP5ciRrX92pjgX7RrjFwSAomHfw'\n",
        "sheet_name = 'Sheet1'\n",
        "url = f'https://docs.google.com/spreadsheets/d/{sheet_id}/gviz/tq?tqx=out:csv&sheet={sheet_name}'\n",
        "df = pd.read_csv(url)"
      ],
      "metadata": {
        "id": "OKjmeeQ5R5SD"
      },
      "execution_count": null,
      "outputs": []
    },
    {
      "cell_type": "code",
      "source": [
        "#import another sheet with lookup references\n",
        "sheet_name_glossary = 'glossary'\n",
        "url_glossary = f'https://docs.google.com/spreadsheets/d/{sheet_id}/gviz/tq?tqx=out:csv&sheet={sheet_name_glossary}'\n",
        "df_glossary = pd.read_csv(url_glossary)"
      ],
      "metadata": {
        "id": "BBDt0kaJR5fb"
      },
      "execution_count": null,
      "outputs": []
    },
    {
      "cell_type": "code",
      "source": [
        "#correct data type\n",
        "df['start date'] = pd.to_datetime(df['start date'])\n",
        "# df.pop('days open')\n",
        "\n",
        "#include days open col\n",
        "df.insert(df.columns.get_loc('start date')+1, 'days open', pd.to_datetime(date.today()) - df['start date'])\n",
        "df['days open'] = df['days open'].dt.days\n",
        "\n",
        "print(df.dtypes)\n",
        "\n",
        "#reorganize column order\n",
        "tempCol = df['location']\n",
        "df.pop('location')\n",
        "df.insert(df.columns.get_loc('division')+1, tempCol.name, tempCol)"
      ],
      "metadata": {
        "id": "PtdPtNoxYupG",
        "colab": {
          "base_uri": "https://localhost:8080/"
        },
        "outputId": "69503af9-5104-42cc-e8b5-cf005a382d51"
      },
      "execution_count": null,
      "outputs": [
        {
          "output_type": "stream",
          "name": "stdout",
          "text": [
            "job title                  object\n",
            "openings                    int64\n",
            "recruiter                  object\n",
            "location                   object\n",
            "hiring manager             object\n",
            "start date         datetime64[ns]\n",
            "days open                   int64\n",
            "reason for hire            object\n",
            "replacement for            object\n",
            "department                 object\n",
            "business unit             float64\n",
            "division                  float64\n",
            "dtype: object\n"
          ]
        }
      ]
    },
    {
      "cell_type": "code",
      "source": [
        "#credit: https://pythoninoffice.com/replicate-excel-vlookup-hlookup-xlookup-in-python/\n",
        "def xlookup(lookup_value, lookup_array, return_array, if_not_found:str = ''):\n",
        "    match_value = return_array.loc[lookup_array == lookup_value]\n",
        "    if match_value.empty:\n",
        "        return f'\"{lookup_value}\" not found!' if if_not_found == '' else if_not_found\n",
        "\n",
        "    else:\n",
        "        return match_value.tolist()[0]"
      ],
      "metadata": {
        "id": "yRtPppqAPkkl"
      },
      "execution_count": null,
      "outputs": []
    },
    {
      "cell_type": "code",
      "source": [
        "df.isna().sum()\n",
        "\n",
        "# fill in bu, division\n",
        "# xlookup('whoever1', df['replacement for'], df['department'])\n",
        "df['business unit'] = df['department'].apply(xlookup, args = (df_glossary['department'], df_glossary['business unit']))\n",
        "df['division'] = df['department'].apply(xlookup, args = (df_glossary['department'], df_glossary['division']))"
      ],
      "metadata": {
        "id": "fcAXyIM3PkjC"
      },
      "execution_count": null,
      "outputs": []
    },
    {
      "cell_type": "code",
      "source": [
        "print(df.isna().sum())\n",
        "\n",
        "df[df['replacement for'].isna()]"
      ],
      "metadata": {
        "id": "FjRgPpbJQnO1",
        "colab": {
          "base_uri": "https://localhost:8080/",
          "height": 531
        },
        "outputId": "14093b6f-59ec-49cf-f560-28008591db2a"
      },
      "execution_count": null,
      "outputs": [
        {
          "output_type": "stream",
          "name": "stdout",
          "text": [
            "job title          0\n",
            "openings           0\n",
            "recruiter          0\n",
            "hiring manager     0\n",
            "start date         0\n",
            "days open          0\n",
            "reason for hire    0\n",
            "replacement for    4\n",
            "department         0\n",
            "business unit      0\n",
            "division           0\n",
            "location           0\n",
            "dtype: int64\n"
          ]
        },
        {
          "output_type": "execute_result",
          "data": {
            "text/plain": [
              "   job title  openings recruiter hiring manager start date  days open  \\\n",
              "7          h         1  symone d        schmitt 2022-05-22         41   \n",
              "8          i         1    alex m        schmitt 2022-02-19        133   \n",
              "9          j         5   denny s          adams 2022-01-25        158   \n",
              "10         k         1  symone d        schmitt 2022-06-29          3   \n",
              "\n",
              "         reason for hire replacement for          department business unit  \\\n",
              "7   recruiting > newfill             NaN  software developer   engineering   \n",
              "8           NEW POSITION             NaN  software developer   engineering   \n",
              "9           NEW POSITION             NaN              design     marketing   \n",
              "10          NEW POSITION             NaN  software developer   engineering   \n",
              "\n",
              "    division   location  \n",
              "7    science  remote nj  \n",
              "8    science  remote ny  \n",
              "9   creative  remote ny  \n",
              "10   science  remote ny  "
            ],
            "text/html": [
              "\n",
              "  <div id=\"df-28027f2c-3410-4a58-8ab5-e12bad9c7594\">\n",
              "    <div class=\"colab-df-container\">\n",
              "      <div>\n",
              "<style scoped>\n",
              "    .dataframe tbody tr th:only-of-type {\n",
              "        vertical-align: middle;\n",
              "    }\n",
              "\n",
              "    .dataframe tbody tr th {\n",
              "        vertical-align: top;\n",
              "    }\n",
              "\n",
              "    .dataframe thead th {\n",
              "        text-align: right;\n",
              "    }\n",
              "</style>\n",
              "<table border=\"1\" class=\"dataframe\">\n",
              "  <thead>\n",
              "    <tr style=\"text-align: right;\">\n",
              "      <th></th>\n",
              "      <th>job title</th>\n",
              "      <th>openings</th>\n",
              "      <th>recruiter</th>\n",
              "      <th>hiring manager</th>\n",
              "      <th>start date</th>\n",
              "      <th>days open</th>\n",
              "      <th>reason for hire</th>\n",
              "      <th>replacement for</th>\n",
              "      <th>department</th>\n",
              "      <th>business unit</th>\n",
              "      <th>division</th>\n",
              "      <th>location</th>\n",
              "    </tr>\n",
              "  </thead>\n",
              "  <tbody>\n",
              "    <tr>\n",
              "      <th>7</th>\n",
              "      <td>h</td>\n",
              "      <td>1</td>\n",
              "      <td>symone d</td>\n",
              "      <td>schmitt</td>\n",
              "      <td>2022-05-22</td>\n",
              "      <td>41</td>\n",
              "      <td>recruiting &gt; newfill</td>\n",
              "      <td>NaN</td>\n",
              "      <td>software developer</td>\n",
              "      <td>engineering</td>\n",
              "      <td>science</td>\n",
              "      <td>remote nj</td>\n",
              "    </tr>\n",
              "    <tr>\n",
              "      <th>8</th>\n",
              "      <td>i</td>\n",
              "      <td>1</td>\n",
              "      <td>alex m</td>\n",
              "      <td>schmitt</td>\n",
              "      <td>2022-02-19</td>\n",
              "      <td>133</td>\n",
              "      <td>NEW POSITION</td>\n",
              "      <td>NaN</td>\n",
              "      <td>software developer</td>\n",
              "      <td>engineering</td>\n",
              "      <td>science</td>\n",
              "      <td>remote ny</td>\n",
              "    </tr>\n",
              "    <tr>\n",
              "      <th>9</th>\n",
              "      <td>j</td>\n",
              "      <td>5</td>\n",
              "      <td>denny s</td>\n",
              "      <td>adams</td>\n",
              "      <td>2022-01-25</td>\n",
              "      <td>158</td>\n",
              "      <td>NEW POSITION</td>\n",
              "      <td>NaN</td>\n",
              "      <td>design</td>\n",
              "      <td>marketing</td>\n",
              "      <td>creative</td>\n",
              "      <td>remote ny</td>\n",
              "    </tr>\n",
              "    <tr>\n",
              "      <th>10</th>\n",
              "      <td>k</td>\n",
              "      <td>1</td>\n",
              "      <td>symone d</td>\n",
              "      <td>schmitt</td>\n",
              "      <td>2022-06-29</td>\n",
              "      <td>3</td>\n",
              "      <td>NEW POSITION</td>\n",
              "      <td>NaN</td>\n",
              "      <td>software developer</td>\n",
              "      <td>engineering</td>\n",
              "      <td>science</td>\n",
              "      <td>remote ny</td>\n",
              "    </tr>\n",
              "  </tbody>\n",
              "</table>\n",
              "</div>\n",
              "      <button class=\"colab-df-convert\" onclick=\"convertToInteractive('df-28027f2c-3410-4a58-8ab5-e12bad9c7594')\"\n",
              "              title=\"Convert this dataframe to an interactive table.\"\n",
              "              style=\"display:none;\">\n",
              "        \n",
              "  <svg xmlns=\"http://www.w3.org/2000/svg\" height=\"24px\"viewBox=\"0 0 24 24\"\n",
              "       width=\"24px\">\n",
              "    <path d=\"M0 0h24v24H0V0z\" fill=\"none\"/>\n",
              "    <path d=\"M18.56 5.44l.94 2.06.94-2.06 2.06-.94-2.06-.94-.94-2.06-.94 2.06-2.06.94zm-11 1L8.5 8.5l.94-2.06 2.06-.94-2.06-.94L8.5 2.5l-.94 2.06-2.06.94zm10 10l.94 2.06.94-2.06 2.06-.94-2.06-.94-.94-2.06-.94 2.06-2.06.94z\"/><path d=\"M17.41 7.96l-1.37-1.37c-.4-.4-.92-.59-1.43-.59-.52 0-1.04.2-1.43.59L10.3 9.45l-7.72 7.72c-.78.78-.78 2.05 0 2.83L4 21.41c.39.39.9.59 1.41.59.51 0 1.02-.2 1.41-.59l7.78-7.78 2.81-2.81c.8-.78.8-2.07 0-2.86zM5.41 20L4 18.59l7.72-7.72 1.47 1.35L5.41 20z\"/>\n",
              "  </svg>\n",
              "      </button>\n",
              "      \n",
              "  <style>\n",
              "    .colab-df-container {\n",
              "      display:flex;\n",
              "      flex-wrap:wrap;\n",
              "      gap: 12px;\n",
              "    }\n",
              "\n",
              "    .colab-df-convert {\n",
              "      background-color: #E8F0FE;\n",
              "      border: none;\n",
              "      border-radius: 50%;\n",
              "      cursor: pointer;\n",
              "      display: none;\n",
              "      fill: #1967D2;\n",
              "      height: 32px;\n",
              "      padding: 0 0 0 0;\n",
              "      width: 32px;\n",
              "    }\n",
              "\n",
              "    .colab-df-convert:hover {\n",
              "      background-color: #E2EBFA;\n",
              "      box-shadow: 0px 1px 2px rgba(60, 64, 67, 0.3), 0px 1px 3px 1px rgba(60, 64, 67, 0.15);\n",
              "      fill: #174EA6;\n",
              "    }\n",
              "\n",
              "    [theme=dark] .colab-df-convert {\n",
              "      background-color: #3B4455;\n",
              "      fill: #D2E3FC;\n",
              "    }\n",
              "\n",
              "    [theme=dark] .colab-df-convert:hover {\n",
              "      background-color: #434B5C;\n",
              "      box-shadow: 0px 1px 3px 1px rgba(0, 0, 0, 0.15);\n",
              "      filter: drop-shadow(0px 1px 2px rgba(0, 0, 0, 0.3));\n",
              "      fill: #FFFFFF;\n",
              "    }\n",
              "  </style>\n",
              "\n",
              "      <script>\n",
              "        const buttonEl =\n",
              "          document.querySelector('#df-28027f2c-3410-4a58-8ab5-e12bad9c7594 button.colab-df-convert');\n",
              "        buttonEl.style.display =\n",
              "          google.colab.kernel.accessAllowed ? 'block' : 'none';\n",
              "\n",
              "        async function convertToInteractive(key) {\n",
              "          const element = document.querySelector('#df-28027f2c-3410-4a58-8ab5-e12bad9c7594');\n",
              "          const dataTable =\n",
              "            await google.colab.kernel.invokeFunction('convertToInteractive',\n",
              "                                                     [key], {});\n",
              "          if (!dataTable) return;\n",
              "\n",
              "          const docLinkHtml = 'Like what you see? Visit the ' +\n",
              "            '<a target=\"_blank\" href=https://colab.research.google.com/notebooks/data_table.ipynb>data table notebook</a>'\n",
              "            + ' to learn more about interactive tables.';\n",
              "          element.innerHTML = '';\n",
              "          dataTable['output_type'] = 'display_data';\n",
              "          await google.colab.output.renderOutput(dataTable, element);\n",
              "          const docLink = document.createElement('div');\n",
              "          docLink.innerHTML = docLinkHtml;\n",
              "          element.appendChild(docLink);\n",
              "        }\n",
              "      </script>\n",
              "    </div>\n",
              "  </div>\n",
              "  "
            ]
          },
          "metadata": {},
          "execution_count": 9
        }
      ]
    },
    {
      "cell_type": "code",
      "source": [
        "#sort\n",
        "df.sort_values(['recruiter', 'job title', 'department'], inplace=True)"
      ],
      "metadata": {
        "id": "6y5kWypwHkr7"
      },
      "execution_count": null,
      "outputs": []
    },
    {
      "cell_type": "code",
      "source": [
        "#categorize reqs by days open\n",
        "df['days open category'].mask((df['days open'] > 0) & (df['days open'] < 30), 'Green', inplace=True)\n",
        "df['days open category'].mask((df['days open'] > 30) & (df['days open'] < 45), 'Yellow', inplace=True)\n",
        "df['days open category'].mask(df['days open'] > 45, 'Red', inplace=True)\n",
        "\n",
        "tempCol = df['days open category']\n",
        "df.pop('days open category')\n",
        "df.insert(df.columns.get_loc('days open')+1, 'days open category', tempCol)"
      ],
      "metadata": {
        "id": "0apc4CaXQ-1t"
      },
      "execution_count": 25,
      "outputs": []
    },
    {
      "cell_type": "code",
      "source": [
        "#correct reason for hire text\n",
        "df['reason for hire'].mask(df['reason for hire'] == 'CURR POSITION', 'recruiting > backfill', inplace=True)\n",
        "df['reason for hire'].mask(df['reason for hire'] == 'NEW POSITION', 'recruiting > new hire', inplace=True)"
      ],
      "metadata": {
        "id": "9bf0Hm0csqL0"
      },
      "execution_count": 23,
      "outputs": []
    },
    {
      "cell_type": "code",
      "source": [
        "#average days open\n",
        "df['days open'].sum()/ df['days open'].count()\n",
        "\n",
        "df.groupby('recruiter').sum()['openings'].reset_index().sort_values('openings', ascending=False)"
      ],
      "metadata": {
        "id": "J3tjJH3Eqhj3",
        "colab": {
          "base_uri": "https://localhost:8080/",
          "height": 143
        },
        "outputId": "0ecdb040-25a7-47dc-9b7f-bba1e50a115a"
      },
      "execution_count": 55,
      "outputs": [
        {
          "output_type": "execute_result",
          "data": {
            "text/plain": [
              "  recruiter  openings\n",
              "1   denny s         8\n",
              "2  symone d         5\n",
              "0    alex m         4"
            ],
            "text/html": [
              "\n",
              "  <div id=\"df-860f2afe-a47f-4495-93d5-978e7b28ed82\">\n",
              "    <div class=\"colab-df-container\">\n",
              "      <div>\n",
              "<style scoped>\n",
              "    .dataframe tbody tr th:only-of-type {\n",
              "        vertical-align: middle;\n",
              "    }\n",
              "\n",
              "    .dataframe tbody tr th {\n",
              "        vertical-align: top;\n",
              "    }\n",
              "\n",
              "    .dataframe thead th {\n",
              "        text-align: right;\n",
              "    }\n",
              "</style>\n",
              "<table border=\"1\" class=\"dataframe\">\n",
              "  <thead>\n",
              "    <tr style=\"text-align: right;\">\n",
              "      <th></th>\n",
              "      <th>recruiter</th>\n",
              "      <th>openings</th>\n",
              "    </tr>\n",
              "  </thead>\n",
              "  <tbody>\n",
              "    <tr>\n",
              "      <th>1</th>\n",
              "      <td>denny s</td>\n",
              "      <td>8</td>\n",
              "    </tr>\n",
              "    <tr>\n",
              "      <th>2</th>\n",
              "      <td>symone d</td>\n",
              "      <td>5</td>\n",
              "    </tr>\n",
              "    <tr>\n",
              "      <th>0</th>\n",
              "      <td>alex m</td>\n",
              "      <td>4</td>\n",
              "    </tr>\n",
              "  </tbody>\n",
              "</table>\n",
              "</div>\n",
              "      <button class=\"colab-df-convert\" onclick=\"convertToInteractive('df-860f2afe-a47f-4495-93d5-978e7b28ed82')\"\n",
              "              title=\"Convert this dataframe to an interactive table.\"\n",
              "              style=\"display:none;\">\n",
              "        \n",
              "  <svg xmlns=\"http://www.w3.org/2000/svg\" height=\"24px\"viewBox=\"0 0 24 24\"\n",
              "       width=\"24px\">\n",
              "    <path d=\"M0 0h24v24H0V0z\" fill=\"none\"/>\n",
              "    <path d=\"M18.56 5.44l.94 2.06.94-2.06 2.06-.94-2.06-.94-.94-2.06-.94 2.06-2.06.94zm-11 1L8.5 8.5l.94-2.06 2.06-.94-2.06-.94L8.5 2.5l-.94 2.06-2.06.94zm10 10l.94 2.06.94-2.06 2.06-.94-2.06-.94-.94-2.06-.94 2.06-2.06.94z\"/><path d=\"M17.41 7.96l-1.37-1.37c-.4-.4-.92-.59-1.43-.59-.52 0-1.04.2-1.43.59L10.3 9.45l-7.72 7.72c-.78.78-.78 2.05 0 2.83L4 21.41c.39.39.9.59 1.41.59.51 0 1.02-.2 1.41-.59l7.78-7.78 2.81-2.81c.8-.78.8-2.07 0-2.86zM5.41 20L4 18.59l7.72-7.72 1.47 1.35L5.41 20z\"/>\n",
              "  </svg>\n",
              "      </button>\n",
              "      \n",
              "  <style>\n",
              "    .colab-df-container {\n",
              "      display:flex;\n",
              "      flex-wrap:wrap;\n",
              "      gap: 12px;\n",
              "    }\n",
              "\n",
              "    .colab-df-convert {\n",
              "      background-color: #E8F0FE;\n",
              "      border: none;\n",
              "      border-radius: 50%;\n",
              "      cursor: pointer;\n",
              "      display: none;\n",
              "      fill: #1967D2;\n",
              "      height: 32px;\n",
              "      padding: 0 0 0 0;\n",
              "      width: 32px;\n",
              "    }\n",
              "\n",
              "    .colab-df-convert:hover {\n",
              "      background-color: #E2EBFA;\n",
              "      box-shadow: 0px 1px 2px rgba(60, 64, 67, 0.3), 0px 1px 3px 1px rgba(60, 64, 67, 0.15);\n",
              "      fill: #174EA6;\n",
              "    }\n",
              "\n",
              "    [theme=dark] .colab-df-convert {\n",
              "      background-color: #3B4455;\n",
              "      fill: #D2E3FC;\n",
              "    }\n",
              "\n",
              "    [theme=dark] .colab-df-convert:hover {\n",
              "      background-color: #434B5C;\n",
              "      box-shadow: 0px 1px 3px 1px rgba(0, 0, 0, 0.15);\n",
              "      filter: drop-shadow(0px 1px 2px rgba(0, 0, 0, 0.3));\n",
              "      fill: #FFFFFF;\n",
              "    }\n",
              "  </style>\n",
              "\n",
              "      <script>\n",
              "        const buttonEl =\n",
              "          document.querySelector('#df-860f2afe-a47f-4495-93d5-978e7b28ed82 button.colab-df-convert');\n",
              "        buttonEl.style.display =\n",
              "          google.colab.kernel.accessAllowed ? 'block' : 'none';\n",
              "\n",
              "        async function convertToInteractive(key) {\n",
              "          const element = document.querySelector('#df-860f2afe-a47f-4495-93d5-978e7b28ed82');\n",
              "          const dataTable =\n",
              "            await google.colab.kernel.invokeFunction('convertToInteractive',\n",
              "                                                     [key], {});\n",
              "          if (!dataTable) return;\n",
              "\n",
              "          const docLinkHtml = 'Like what you see? Visit the ' +\n",
              "            '<a target=\"_blank\" href=https://colab.research.google.com/notebooks/data_table.ipynb>data table notebook</a>'\n",
              "            + ' to learn more about interactive tables.';\n",
              "          element.innerHTML = '';\n",
              "          dataTable['output_type'] = 'display_data';\n",
              "          await google.colab.output.renderOutput(dataTable, element);\n",
              "          const docLink = document.createElement('div');\n",
              "          docLink.innerHTML = docLinkHtml;\n",
              "          element.appendChild(docLink);\n",
              "        }\n",
              "      </script>\n",
              "    </div>\n",
              "  </div>\n",
              "  "
            ]
          },
          "metadata": {},
          "execution_count": 55
        }
      ]
    }
  ]
}