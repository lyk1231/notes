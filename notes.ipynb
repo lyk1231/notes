{
  "nbformat": 4,
  "nbformat_minor": 0,
  "metadata": {
    "colab": {
      "name": "notes.ipynb",
      "provenance": [],
      "collapsed_sections": [],
      "authorship_tag": "ABX9TyOo9itdrK2q++XL/MKoNdfI",
      "include_colab_link": true
    },
    "kernelspec": {
      "name": "python3",
      "display_name": "Python 3"
    },
    "language_info": {
      "name": "python"
    }
  },
  "cells": [
    {
      "cell_type": "markdown",
      "metadata": {
        "id": "view-in-github",
        "colab_type": "text"
      },
      "source": [
        "<a href=\"https://colab.research.google.com/github/lyk1231/notes/blob/main/notes.ipynb\" target=\"_parent\"><img src=\"https://colab.research.google.com/assets/colab-badge.svg\" alt=\"Open In Colab\"/></a>"
      ]
    },
    {
      "cell_type": "code",
      "metadata": {
        "id": "xJMlw7HZ3FXi"
      },
      "source": [
        "#read gsheet into pandas\n",
        "#1: set sharing setting to editable with link\n",
        "sheet_id = '1_Y7fGWbmW6Y1vUaasNghdB-AHtphZiHAYY8IfmGjvNo'\n",
        "sheet_name = 'sheet1'\n",
        "url = f'https://docs.google.com/spreadsheets/d/{sheet_id}/gviz/tq?tqx=out:csv&sheet={sheet_name}'\n",
        "\n",
        "pd.read_csv(url, error_bad_lines=False)\n",
        "\n",
        "#read excel file from gdrive\n",
        "!ls 'drive/MyDrive/Placement_Data_Full_Class.csv.gsheet'\n",
        "\n",
        "directory = 'drive/MyDrive/Placement_Data_Full_Class.excel'\n",
        "# folder = os.listdir(directory)\n",
        "\n",
        "df = pd.read_excel(directory)"
      ],
      "execution_count": null,
      "outputs": []
    },
    {
      "cell_type": "code",
      "metadata": {
        "id": "UQyTO248kSIH"
      },
      "source": [
        "#categorizes column into specified range\n",
        "pd.cut(df['Col'], range(0,100,10))\n"
      ],
      "execution_count": null,
      "outputs": []
    },
    {
      "cell_type": "code",
      "metadata": {
        "id": "tWrQVJbpXpMX"
      },
      "source": [
        "#count # of occurences when throughout multiple columns\n",
        "#taken from https://github.com/ribeiroluan/valorant-road-to-berlin/blob/main/Script1_DataViz.ipynb\n",
        "# map agent total_possible_picks picks pickrate\n",
        "\n",
        "agents = ['Killjoy', 'Cypher', 'Sage', \n",
        "           'Viper', 'Omen', 'Astra', 'Brimstone',\n",
        "           'Sova','Breach', 'Skye', 'Kay/o', \n",
        "           'Jett', 'Raze', 'Phoenix', 'Reyna', 'Yoru']\n",
        "maps = ['Haven', 'Icebox', 'Ascent', 'Bind', 'Split', 'Breeze']\n",
        "\n",
        "#Create a column for each agent counting the number of picks per map\n",
        "dataset_agents = dataset.copy()\n",
        "for agent in agents:\n",
        "    dataset_agents[agent] = dataset_agents[dataset == agent].count(axis=1)\n",
        "\n",
        "#Group by map and calculate de pickrate for each agent\n",
        "pickrate_prelim = dataset_agents.groupby('Map').sum(agents).drop(columns=['Match_ID', 'Team_1_Rounds_Won', 'Team_2_Rounds_Won', 'ATK_Rounds_Won', 'DEF_Rounds_Won', 'Total_Rounds'])\n",
        "\n",
        "pickrate = pickrate_prelim.copy()\n",
        "\n",
        "for agent in agents:\n",
        "    for map_ in maps:\n",
        "        pickrate[agent][map_] = (pickrate[agent][map_])/(2*mapPrevalence[mapPrevalence['Map']==map_]['Times played'])*100\n",
        "\n",
        "pickrate = pickrate/100\n",
        "pickrate"
      ],
      "execution_count": null,
      "outputs": []
    },
    {
      "cell_type": "code",
      "metadata": {
        "id": "pWVLGncCAx3W"
      },
      "source": [
        "#change info on certain columns based on condition\n",
        "df.loc[df['name'] == 'Leo', ['origin', 'status']] = ['SKorea', False]"
      ],
      "execution_count": null,
      "outputs": []
    },
    {
      "cell_type": "code",
      "metadata": {
        "id": "4FFL_ezbfX4F"
      },
      "source": [
        "#Remove rows that equal 0\n",
        "df = df[(df != 0).all(1)]"
      ],
      "execution_count": null,
      "outputs": []
    },
    {
      "cell_type": "code",
      "metadata": {
        "id": "WnKY4uZThAPL"
      },
      "source": [
        "#Grab weekday from date\n",
        "df['weekday'] = df['date'].dt.weekday_name"
      ],
      "execution_count": null,
      "outputs": []
    },
    {
      "cell_type": "code",
      "metadata": {
        "id": "Pymr_tYPiCfR"
      },
      "source": [
        "#Reorganize groupby index column by specific order\n",
        "myorder = ['gameboy', 'nintendo 64', 'wii']\n",
        "df_new = df.groupby('console').mean()\n",
        "df_new = df_new.loc[myorder]"
      ],
      "execution_count": null,
      "outputs": []
    },
    {
      "cell_type": "code",
      "metadata": {
        "id": "HoppoeOstoBt"
      },
      "source": [
        "#Extract pdf text\n",
        "!pip install tika\n",
        "from tika import parser # pip install tika\n",
        "\n",
        "raw = parser.from_file('The Social Animal - elliot aronson.pdf')\n",
        "print(raw['content'])"
      ],
      "execution_count": null,
      "outputs": []
    }
  ]
}